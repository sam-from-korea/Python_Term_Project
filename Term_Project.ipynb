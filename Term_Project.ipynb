{
 "cells": [
  {
   "cell_type": "markdown",
   "id": "02a19468",
   "metadata": {},
   "source": [
    "# 텀프로젝트 최종 보고서"
   ]
  },
  {
   "cell_type": "markdown",
   "id": "1adaae03",
   "metadata": {},
   "source": [
    "**유전생명공학과 / 2018101819 / 김세한**"
   ]
  },
  {
   "cell_type": "markdown",
   "id": "e382c255",
   "metadata": {},
   "source": [
    "## 1. 주제 <br>\n",
    "\n",
    "축구에 있어서 오랜 역사를 지니고 있는 잉글랜드 프리미어 리그에서 매년 수십억에서 수백억의 돈이 연관된 축구 선수들의 이적이 있다.<br>\n",
    "축구 선수의 이적과 승점의 상관관계가 있는지 확인한다.<br>"
   ]
  },
  {
   "cell_type": "markdown",
   "id": "7eb5cbc6",
   "metadata": {},
   "source": [
    "## 2. 주제 선정 이유<br>\n",
    "\n",
    "\n",
    "### A. Data가 충분한지<br>\n",
    "\n",
    "    1. 잉글랜드 프리미어리그는 20년의 역사와 20개의 팀으로 구성되어 있다.\n",
    "    \n",
    "### B. 결과가 있다.<br>\n",
    "    1. 승점이 있어 시즌별 등수가 나온다.\n",
    "    \n",
    "### C. 이적 선수과 그 시즌의 결과와의 인과관계가 궁금하다.<br>\n",
    "    1. 매 시즌마다 이적 선수가 많다.\n",
    "    2. 선수 이적에 천문학전인 돈이 들어가는 경우가 있다. \n",
    "    3. 이적 선수로 인해 생기는 팀의 변화가 많다.\n"
   ]
  },
  {
   "cell_type": "markdown",
   "id": "28d013e2",
   "metadata": {},
   "source": [
    "## 3. 가설<br>\n",
    "\n",
    "\n",
    "### A. 이적해서 팀으로 들어온 선수가 많으면 팀이 강해진다.<br>\n",
    "1. 강해지는 기준을 승점으로 둔다.\n",
    "2. 각 팀별 몇명의 이적 선수가 있었는지 확인한다.<br>\n",
    "3. 이적수와 승점의 관계를 통해 가설을 확인한다.<br>\n",
    "\n",
    "### B. 이적으로 쓴 돈이 많은 팀일수록 강해진다.<br>\n",
    "1. 강해지는 기준을 승점으로 둔다.<br>\n",
    "2. 이적으로 사용한 돈을 확인한다.\n",
    "3. 승점을 확인한다.\n",
    "4. 직후 시즌의 승점을 통해 가설을 확인한다.\n",
    "\n",
    "### C. 이적으로 돈을 많이 번 팀일수록 다다음 시즌에 강해진다.<br>\n",
    "1. 강해지는 기준을 승점으로 둔다.\n",
    "2. 이적으로 벌어들인 돈을 확인한다.<br>\n",
    "3. 승점을 확인한다.\n",
    "4. 이적 다음 해의 시즌 승점을 통해 가설을 확인한다.\n"
   ]
  },
  {
   "cell_type": "markdown",
   "id": "41df6324",
   "metadata": {},
   "source": [
    "## 4. 분석할 데이터 출처와 데이터 내용<br>\n",
    "\n",
    "### A. 이적 선수<br>\n",
    "1. https://kr.soccerway.com/national/england/premier-league/20222023/regular-season/r69471/transfers/ <br>\n",
    "\n",
    "### B. 순위(승점)<br>\n",
    "1. 잉글랜드 프리미어리그 홈페이지 -  https://www.premierleague.com/tables <br>\n",
    "\n",
    "### C. 환율<br>\n",
    "1. 우리은행 기간별평균환율조회 - https://spot.wooribank.com/pot/Dream?withyou=FXXRT0016 <br>"
   ]
  },
  {
   "cell_type": "markdown",
   "id": "64ad56f7",
   "metadata": {},
   "source": [
    "## 5. 분석을 위한 데이터의 가공"
   ]
  },
  {
   "cell_type": "markdown",
   "id": "a40b2379",
   "metadata": {},
   "source": [
    "### A. 이적 선수\n",
    "    1. 각 팀별로 이적 선수 명단, 이적수, 이적에 사용한 돈, 이적으로 얻은 수입을 \n",
    "       인터넷에서 발췌한다.\n",
    "    2. Pandas로 활용할 수 있는 형태로 엑셀 파일로 정리한다. \n",
    "    \n",
    "### B. 승점\n",
    "    1. 각 팀별로 얻은 승점을 인터넷에서 발췌한다.\n",
    "    2. Pandas로 활용할 수 있는 형태로 엑셀 파일로 정리한다. \n",
    "    \n",
    "### C. 환율\n",
    "    1. 연도별 평균환율을 인터넷에서 발췌한다.\n",
    "    2. List로 만들어 활용한다."
   ]
  },
  {
   "cell_type": "markdown",
   "id": "7177f366",
   "metadata": {},
   "source": [
    "## 6. 분석 결과"
   ]
  },
  {
   "cell_type": "markdown",
   "id": "1375ff86",
   "metadata": {},
   "source": [
    "2017년부터 2021년까지 최근 5년간의 자료를 사용하였다.<br>\n",
    "정확도를 위해 5년간 모두 프리미어리그에 있었던 12팀만을 분석 자료로 사용하였다."
   ]
  },
  {
   "cell_type": "markdown",
   "id": "bf7cbb54",
   "metadata": {},
   "source": [
    "### A. 이적해서 팀으로 들어온 선수가 많으면 팀이 강해진다.<br>\n",
    "#### 1. 강해지는 기준을 승점으로 둔다.<br>"
   ]
  },
  {
   "cell_type": "code",
   "execution_count": 1,
   "id": "991a4b85",
   "metadata": {},
   "outputs": [],
   "source": [
    "import pandas as pd\n",
    "import matplotlib.pyplot as pit"
   ]
  },
  {
   "cell_type": "code",
   "execution_count": 2,
   "id": "a8a30b97",
   "metadata": {},
   "outputs": [],
   "source": [
    "df11 = pd.read_excel(\"./Transfer_뉴캐슬 유나이티드.xlsx\")\n",
    "df12 = pd.read_excel(\"./Transfer_레스터 시티.xlsx\")\n",
    "df13 = pd.read_excel(\"./Transfer_리버풀.xlsx\")\n",
    "df14 = pd.read_excel(\"./Transfer_맨체스터 시티.xlsx\")\n",
    "df15 = pd.read_excel(\"./Transfer_맨체스터 유나이티드.xlsx\")\n",
    "df16 = pd.read_excel(\"./Transfer_브라이튼 앤 호브.xlsx\")\n",
    "df17 = pd.read_excel(\"./Transfer_사우샘프턴.xlsx\")\n",
    "df18 = pd.read_excel(\"./Transfer_아스널.xlsx\")\n",
    "df19 = pd.read_excel(\"./Transfer_웨스트햄 유나이티드.xlsx\")\n",
    "df21 = pd.read_excel(\"./Transfer_첼시.xlsx\")\n",
    "df22 = pd.read_excel(\"./Transfer_크리스털 팰리스.xlsx\")\n",
    "df23 = pd.read_excel(\"./Transfer_토트넘 훗스퍼.xlsx\")"
   ]
  },
  {
   "cell_type": "markdown",
   "id": "1b3cfe00",
   "metadata": {},
   "source": [
    "#### 2. 각 팀별 몇명의 이적 선수가 있었는지 확인한다.<br>"
   ]
  },
  {
   "cell_type": "code",
   "execution_count": 3,
   "id": "1c30a04c",
   "metadata": {},
   "outputs": [],
   "source": [
    "df111 = df11[[ '이적수']].loc[0:4]\n",
    "df112 = df12[[ '이적수']].loc[0:4]\n",
    "df113 = df13[[ '이적수']].loc[0:4]\n",
    "df114 = df14[[ '이적수']].loc[0:4]\n",
    "df115 = df15[[ '이적수']].loc[0:4]\n",
    "df116 = df16[[ '이적수']].loc[0:4]\n",
    "df117 = df17[[ '이적수']].loc[0:4]\n",
    "df118 = df18[[ '이적수']].loc[0:4]\n",
    "df119 = df19[[ '이적수']].loc[0:4]\n",
    "df211 = df21[[ '이적수']].loc[0:4]\n",
    "df212 = df22[[ '이적수']].loc[0:4]\n",
    "df213 = df23[[ '이적수']].loc[0:4]"
   ]
  },
  {
   "cell_type": "markdown",
   "id": "0e0ca2e6",
   "metadata": {},
   "source": [
    "5년간 12개 팀의 이적수"
   ]
  },
  {
   "cell_type": "code",
   "execution_count": 4,
   "id": "58e5877a",
   "metadata": {},
   "outputs": [
    {
     "data": {
      "text/html": [
       "<div>\n",
       "<style scoped>\n",
       "    .dataframe tbody tr th:only-of-type {\n",
       "        vertical-align: middle;\n",
       "    }\n",
       "\n",
       "    .dataframe tbody tr th {\n",
       "        vertical-align: top;\n",
       "    }\n",
       "\n",
       "    .dataframe thead th {\n",
       "        text-align: right;\n",
       "    }\n",
       "</style>\n",
       "<table border=\"1\" class=\"dataframe\">\n",
       "  <thead>\n",
       "    <tr style=\"text-align: right;\">\n",
       "      <th></th>\n",
       "      <th>뉴캐슬 유나이티드 이적수</th>\n",
       "      <th>레스터 시티 이적수</th>\n",
       "      <th>리버풀 이적수</th>\n",
       "      <th>맨체스터 시티 이적수</th>\n",
       "      <th>맨체스터 유나이티드 이적수</th>\n",
       "      <th>브라이튼 앤 호브 이적수</th>\n",
       "      <th>사우샘프턴 이적수</th>\n",
       "      <th>아스널 이적수</th>\n",
       "      <th>웨스트햄 유나이티드 이적수</th>\n",
       "      <th>첼시 이적수</th>\n",
       "      <th>크리스털 팰리스 이적수</th>\n",
       "      <th>토트넘 훗스퍼 이적수</th>\n",
       "    </tr>\n",
       "  </thead>\n",
       "  <tbody>\n",
       "    <tr>\n",
       "      <th>2021</th>\n",
       "      <td>6.0</td>\n",
       "      <td>13.0</td>\n",
       "      <td>11.0</td>\n",
       "      <td>14.0</td>\n",
       "      <td>16.0</td>\n",
       "      <td>24.0</td>\n",
       "      <td>16.0</td>\n",
       "      <td>17.0</td>\n",
       "      <td>13.0</td>\n",
       "      <td>27.0</td>\n",
       "      <td>11.0</td>\n",
       "      <td>14.0</td>\n",
       "    </tr>\n",
       "    <tr>\n",
       "      <th>2020</th>\n",
       "      <td>16.0</td>\n",
       "      <td>13.0</td>\n",
       "      <td>11.0</td>\n",
       "      <td>8.0</td>\n",
       "      <td>10.0</td>\n",
       "      <td>19.0</td>\n",
       "      <td>5.0</td>\n",
       "      <td>15.0</td>\n",
       "      <td>12.0</td>\n",
       "      <td>19.0</td>\n",
       "      <td>11.0</td>\n",
       "      <td>17.0</td>\n",
       "    </tr>\n",
       "    <tr>\n",
       "      <th>2019</th>\n",
       "      <td>15.0</td>\n",
       "      <td>11.0</td>\n",
       "      <td>10.0</td>\n",
       "      <td>13.0</td>\n",
       "      <td>7.0</td>\n",
       "      <td>18.0</td>\n",
       "      <td>11.0</td>\n",
       "      <td>11.0</td>\n",
       "      <td>13.0</td>\n",
       "      <td>17.0</td>\n",
       "      <td>9.0</td>\n",
       "      <td>6.0</td>\n",
       "    </tr>\n",
       "    <tr>\n",
       "      <th>2018</th>\n",
       "      <td>23.0</td>\n",
       "      <td>17.0</td>\n",
       "      <td>13.0</td>\n",
       "      <td>13.0</td>\n",
       "      <td>8.0</td>\n",
       "      <td>16.0</td>\n",
       "      <td>10.0</td>\n",
       "      <td>15.0</td>\n",
       "      <td>18.0</td>\n",
       "      <td>21.0</td>\n",
       "      <td>11.0</td>\n",
       "      <td>5.0</td>\n",
       "    </tr>\n",
       "    <tr>\n",
       "      <th>2017</th>\n",
       "      <td>15.0</td>\n",
       "      <td>14.0</td>\n",
       "      <td>16.0</td>\n",
       "      <td>20.0</td>\n",
       "      <td>9.0</td>\n",
       "      <td>26.0</td>\n",
       "      <td>8.0</td>\n",
       "      <td>12.0</td>\n",
       "      <td>11.0</td>\n",
       "      <td>27.0</td>\n",
       "      <td>15.0</td>\n",
       "      <td>13.0</td>\n",
       "    </tr>\n",
       "  </tbody>\n",
       "</table>\n",
       "</div>"
      ],
      "text/plain": [
       "      뉴캐슬 유나이티드 이적수  레스터 시티 이적수  리버풀 이적수  맨체스터 시티 이적수  맨체스터 유나이티드 이적수  \\\n",
       "2021            6.0        13.0     11.0         14.0            16.0   \n",
       "2020           16.0        13.0     11.0          8.0            10.0   \n",
       "2019           15.0        11.0     10.0         13.0             7.0   \n",
       "2018           23.0        17.0     13.0         13.0             8.0   \n",
       "2017           15.0        14.0     16.0         20.0             9.0   \n",
       "\n",
       "      브라이튼 앤 호브 이적수  사우샘프턴 이적수  아스널 이적수  웨스트햄 유나이티드 이적수  첼시 이적수  크리스털 팰리스 이적수  \\\n",
       "2021           24.0       16.0     17.0            13.0    27.0          11.0   \n",
       "2020           19.0        5.0     15.0            12.0    19.0          11.0   \n",
       "2019           18.0       11.0     11.0            13.0    17.0           9.0   \n",
       "2018           16.0       10.0     15.0            18.0    21.0          11.0   \n",
       "2017           26.0        8.0     12.0            11.0    27.0          15.0   \n",
       "\n",
       "      토트넘 훗스퍼 이적수  \n",
       "2021         14.0  \n",
       "2020         17.0  \n",
       "2019          6.0  \n",
       "2018          5.0  \n",
       "2017         13.0  "
      ]
     },
     "execution_count": 4,
     "metadata": {},
     "output_type": "execute_result"
    }
   ],
   "source": [
    "df1 = pd.concat([df111, df112, df113, df114, df115, df116, df117, df118, df119, df211, df212, df213], axis=1)\n",
    "df1.columns = [\"뉴캐슬 유나이티드 이적수\", \"레스터 시티 이적수\", \"리버풀 이적수\", \"맨체스터 시티 이적수\", \"맨체스터 유나이티드 이적수\", \"브라이튼 앤 호브 이적수\", \"사우샘프턴 이적수\", \"아스널 이적수\", \"웨스트햄 유나이티드 이적수\", \"첼시 이적수\", \"크리스털 팰리스 이적수\", \"토트넘 훗스퍼 이적수\"]\n",
    "df1.index = [2021,2020,2019,2018,2017]\n",
    "df1"
   ]
  },
  {
   "cell_type": "code",
   "execution_count": 5,
   "id": "24e917b6",
   "metadata": {},
   "outputs": [],
   "source": [
    "df1 = pd.concat([df111, df112, df113, df114, df115, df116, df117, df118, df119, df211, df212, df213], axis=0)"
   ]
  },
  {
   "cell_type": "code",
   "execution_count": 6,
   "id": "b1492592",
   "metadata": {},
   "outputs": [],
   "source": [
    "df1['이적수'] = df1['이적수'].astype(int)"
   ]
  },
  {
   "cell_type": "code",
   "execution_count": 7,
   "id": "71af3725",
   "metadata": {},
   "outputs": [],
   "source": [
    "L1_transfer=[]    # 2021년 이적수\n",
    "L2_transfer=[]    # 2020년 이적수\n",
    "L3_transfer=[]    # 2019년 이적수\n",
    "L4_transfer=[]    # 2018년 이적수\n",
    "L5_transfer=[]    # 2017년 이적수\n",
    "L_transfer=[L1_transfer,L2_transfer,L3_transfer,L4_transfer,L5_transfer]"
   ]
  },
  {
   "cell_type": "code",
   "execution_count": 8,
   "id": "1751785d",
   "metadata": {},
   "outputs": [],
   "source": [
    "for i in range(0,5):    #5년간 이적수 L_transfer 이중 리스트로 정리\n",
    "    a=0\n",
    "    b=1\n",
    "    \n",
    "    for j in df1['이적수'].iloc[i:61:5]:\n",
    "        a+=j\n",
    "        \n",
    "    for k in df1['이적수'].iloc[i:61:5]:\n",
    "        b=k/a*100\n",
    "        L_transfer[i].append(int(b))"
   ]
  },
  {
   "cell_type": "code",
   "execution_count": 9,
   "id": "4bf8fc12",
   "metadata": {},
   "outputs": [],
   "source": [
    "L_point1=[]    #20/21시즌 대비 21/22시즌 승점 변화율\n",
    "L_point2=[]    #19/20시즌 대비 20/21시즌 승점 변화율\n",
    "L_point3=[]    #18/19시즌 대비 19/20시즌 승점 변화율\n",
    "L_point4=[]    #17/18시즌 대비 18/19시즌 승점 변화율\n",
    "L_point=[L_point1,L_point2,L_point3,L_point4]"
   ]
  },
  {
   "cell_type": "code",
   "execution_count": 10,
   "id": "6e6ecab8",
   "metadata": {},
   "outputs": [],
   "source": [
    "df2 = pd.read_excel(\"./승점.xlsx\")"
   ]
  },
  {
   "cell_type": "code",
   "execution_count": 11,
   "id": "b149210a",
   "metadata": {},
   "outputs": [],
   "source": [
    "for i in range(0,4):    \n",
    "    a=0\n",
    "    b=0\n",
    "    c=0\n",
    "    for j in range(1,13):\n",
    "        a= df2.iloc[i+1,j]\n",
    "        b= df2.iloc[i,j]\n",
    "        c= (a-b)/a*100\n",
    "        L_point[i].append(int(c))"
   ]
  },
  {
   "cell_type": "markdown",
   "id": "a420a4eb",
   "metadata": {},
   "source": [
    "#### 3. 이적수와 승점의 관계를 통해 가설을 확인한다.<br>"
   ]
  },
  {
   "cell_type": "markdown",
   "id": "099b9ac0",
   "metadata": {},
   "source": [
    "###### 가로 축이 이적수이고 세로 축이 승점의 변화율인 그래프를 그렸다.<br>"
   ]
  },
  {
   "cell_type": "markdown",
   "id": "5efc8f91",
   "metadata": {},
   "source": [
    "2021년 이적 이후 20/21시즌 대비 21/22시즌 승점 변화율"
   ]
  },
  {
   "cell_type": "code",
   "execution_count": 12,
   "id": "06df4783",
   "metadata": {},
   "outputs": [
    {
     "data": {
      "text/plain": [
       "[<matplotlib.lines.Line2D at 0x17f2910f6a0>]"
      ]
     },
     "execution_count": 12,
     "metadata": {},
     "output_type": "execute_result"
    },
    {
     "data": {
      "image/png": "[encoded data removed]",
      "text/plain": [
       "<Figure size 432x288 with 1 Axes>"
      ]
     },
     "metadata": {
      "needs_background": "light"
     },
     "output_type": "display_data"
    }
   ],
   "source": [
    "pit.plot(L_transfer[0],L_point[0], '.')"
   ]
  },
  {
   "cell_type": "markdown",
   "id": "b367dc0b",
   "metadata": {},
   "source": [
    "2020년 이적 이후 19/20시즌 대비 20/21시즌 승점 변화율"
   ]
  },
  {
   "cell_type": "code",
   "execution_count": 13,
   "id": "495aa41b",
   "metadata": {},
   "outputs": [
    {
     "data": {
      "text/plain": [
       "[<matplotlib.lines.Line2D at 0x17f29a1ed90>]"
      ]
     },
     "execution_count": 13,
     "metadata": {},
     "output_type": "execute_result"
    },
    {
     "data": {
      "image/png": "[encoded data removed]",
      "text/plain": [
       "<Figure size 432x288 with 1 Axes>"
      ]
     },
     "metadata": {
      "needs_background": "light"
     },
     "output_type": "display_data"
    }
   ],
   "source": [
    "pit.plot(L_transfer[1],L_point[1], '.')"
   ]
  },
  {
   "cell_type": "markdown",
   "id": "cb3c705d",
   "metadata": {},
   "source": [
    "2019년 이적 이후 18/19시즌 대비 19/20시즌 승점 변화율"
   ]
  },
  {
   "cell_type": "code",
   "execution_count": 14,
   "id": "9cd8d2f8",
   "metadata": {},
   "outputs": [
    {
     "data": {
      "text/plain": [
       "[<matplotlib.lines.Line2D at 0x17f29a85ac0>]"
      ]
     },
     "execution_count": 14,
     "metadata": {},
     "output_type": "execute_result"
    },
    {
     "data": {
      "image/png": "[encoded data removed]",
      "text/plain": [
       "<Figure size 432x288 with 1 Axes>"
      ]
     },
     "metadata": {
      "needs_background": "light"
     },
     "output_type": "display_data"
    }
   ],
   "source": [
    "pit.plot(L_transfer[2],L_point[2], '.')"
   ]
  },
  {
   "cell_type": "markdown",
   "id": "da6f68d9",
   "metadata": {},
   "source": [
    "2018년 이적 이후 17/18시즌 대비 18/19시즌 승점 변화율"
   ]
  },
  {
   "cell_type": "code",
   "execution_count": 15,
   "id": "7d64f737",
   "metadata": {},
   "outputs": [
    {
     "data": {
      "text/plain": [
       "[<matplotlib.lines.Line2D at 0x17f29afa130>]"
      ]
     },
     "execution_count": 15,
     "metadata": {},
     "output_type": "execute_result"
    },
    {
     "data": {
      "image/png": "[encoded data removed]",
      "text/plain": [
       "<Figure size 432x288 with 1 Axes>"
      ]
     },
     "metadata": {
      "needs_background": "light"
     },
     "output_type": "display_data"
    }
   ],
   "source": [
    "pit.plot(L_transfer[3],L_point[3], '.')"
   ]
  },
  {
   "cell_type": "markdown",
   "id": "8754b259",
   "metadata": {},
   "source": [
    "5년간 이적수 대비 승점의 변화율"
   ]
  },
  {
   "cell_type": "code",
   "execution_count": 16,
   "id": "548e4ffc",
   "metadata": {},
   "outputs": [
    {
     "data": {
      "image/png": "[encoded data removed]",
      "text/plain": [
       "<Figure size 432x288 with 1 Axes>"
      ]
     },
     "metadata": {
      "needs_background": "light"
     },
     "output_type": "display_data"
    }
   ],
   "source": [
    "for i in range(0,4):\n",
    "    pit.plot(L_transfer[i],L_point[i], '.')"
   ]
  },
  {
   "cell_type": "markdown",
   "id": "2c6b622c",
   "metadata": {},
   "source": [
    "#### 4. 결론\n",
    "이적수가 많다고 승점이 많이 오르거나 이적수가 적다고 승점이 덜 오르지 않았다.<br>\n",
    "평균적으로 이적으로 들어오는 선수가 7~10명이 있었고 이적선수 수로는 승점과의 관계를 찾을 수 없었다."
   ]
  },
  {
   "cell_type": "markdown",
   "id": "25798949",
   "metadata": {},
   "source": [
    "#### 따라서, 가설 A는 거짓이다.<br>"
   ]
  },
  {
   "cell_type": "markdown",
   "id": "df05d379",
   "metadata": {},
   "source": [
    "   "
   ]
  },
  {
   "cell_type": "markdown",
   "id": "b7aaa04d",
   "metadata": {},
   "source": [
    "### B. 이적으로 쓴 돈이 많은 팀일수록 강해진다.<br>\n",
    "#### 1. 강해지는 기준을 승점으로 둔다.<br>"
   ]
  },
  {
   "cell_type": "markdown",
   "id": "2847d041",
   "metadata": {},
   "source": [
    "2017년 유로 환율 = 1,276.44<br>\n",
    "2018년 유로 환율 = 1,299.65<br>\n",
    "2019년 유로 환율 = 1,305.86<br>\n",
    "2020년 유로 환율 = 1,346.11<br>\n",
    "2021년 유로 환율 = 1,353.40<br>\n",
    "\n",
    "€1M = €1,000,000"
   ]
  },
  {
   "cell_type": "code",
   "execution_count": 17,
   "id": "c5094ba6",
   "metadata": {},
   "outputs": [],
   "source": [
    "df11 = pd.read_excel(\"./Transfer_뉴캐슬 유나이티드.xlsx\")\n",
    "df12 = pd.read_excel(\"./Transfer_레스터 시티.xlsx\")\n",
    "df13 = pd.read_excel(\"./Transfer_리버풀.xlsx\")\n",
    "df14 = pd.read_excel(\"./Transfer_맨체스터 시티.xlsx\")\n",
    "df15 = pd.read_excel(\"./Transfer_맨체스터 유나이티드.xlsx\")\n",
    "df16 = pd.read_excel(\"./Transfer_브라이튼 앤 호브.xlsx\")\n",
    "df17 = pd.read_excel(\"./Transfer_사우샘프턴.xlsx\")\n",
    "df18 = pd.read_excel(\"./Transfer_아스널.xlsx\")\n",
    "df19 = pd.read_excel(\"./Transfer_웨스트햄 유나이티드.xlsx\")\n",
    "df21 = pd.read_excel(\"./Transfer_첼시.xlsx\")\n",
    "df22 = pd.read_excel(\"./Transfer_크리스털 팰리스.xlsx\")\n",
    "df23 = pd.read_excel(\"./Transfer_토트넘 훗스퍼.xlsx\")"
   ]
  },
  {
   "cell_type": "code",
   "execution_count": 18,
   "id": "a1b014a2",
   "metadata": {},
   "outputs": [],
   "source": [
    "df111 = df11.loc[0:4,\"이적 투자\"]\n",
    "df112 = df12.loc[0:4,\"이적 투자\"]\n",
    "df113 = df13.loc[0:4,\"이적 투자\"]\n",
    "df114 = df14.loc[0:4,\"이적 투자\"]\n",
    "df115 = df15.loc[0:4,\"이적 투자\"]\n",
    "df116 = df16.loc[0:4,\"이적 투자\"]\n",
    "df117 = df17.loc[0:4,\"이적 투자\"]\n",
    "df118 = df18.loc[0:4,\"이적 투자\"]\n",
    "df119 = df19.loc[0:4,\"이적 투자\"]\n",
    "df211 = df21.loc[0:4,\"이적 투자\"]\n",
    "df212 = df22.loc[0:4,\"이적 투자\"]\n",
    "df213 = df23.loc[0:4,\"이적 투자\"]"
   ]
  },
  {
   "cell_type": "markdown",
   "id": "99e4c475",
   "metadata": {},
   "source": [
    "#### 2. 이적으로 사용한 돈을 확인한다."
   ]
  },
  {
   "cell_type": "markdown",
   "id": "2b933e2e",
   "metadata": {},
   "source": [
    "2017년 유로 환율 = 1,276.44<br>\n",
    "2018년 유로 환율 = 1,299.65<br>\n",
    "2019년 유로 환율 = 1,305.86<br>\n",
    "2020년 유로 환율 = 1,346.11<br>\n",
    "2021년 유로 환율 = 1,353.40<br>\n",
    "\n",
    "€1M = €1,000,000"
   ]
  },
  {
   "cell_type": "code",
   "execution_count": 19,
   "id": "52e3463e",
   "metadata": {},
   "outputs": [
    {
     "data": {
      "text/html": [
       "<div>\n",
       "<style scoped>\n",
       "    .dataframe tbody tr th:only-of-type {\n",
       "        vertical-align: middle;\n",
       "    }\n",
       "\n",
       "    .dataframe tbody tr th {\n",
       "        vertical-align: top;\n",
       "    }\n",
       "\n",
       "    .dataframe thead th {\n",
       "        text-align: right;\n",
       "    }\n",
       "</style>\n",
       "<table border=\"1\" class=\"dataframe\">\n",
       "  <thead>\n",
       "    <tr style=\"text-align: right;\">\n",
       "      <th></th>\n",
       "      <th>뉴캐슬 유나이티드 이적투자</th>\n",
       "      <th>레스터 시티 이적투자</th>\n",
       "      <th>리버풀 이적투자</th>\n",
       "      <th>맨체스터 시티 이적투자</th>\n",
       "      <th>맨체스터 유나이티드 이적투자</th>\n",
       "      <th>브라이튼 앤 호브 이적투자</th>\n",
       "      <th>사우샘프턴 이적투자</th>\n",
       "      <th>아스널 이적투자</th>\n",
       "      <th>웨스트햄 유나이티드 이적투자</th>\n",
       "      <th>첼시 이적투자</th>\n",
       "      <th>크리스털 팰리스 이적투자</th>\n",
       "      <th>토트넘 훗스퍼 이적투자</th>\n",
       "    </tr>\n",
       "  </thead>\n",
       "  <tbody>\n",
       "    <tr>\n",
       "      <th>2021</th>\n",
       "      <td>€29.3M</td>\n",
       "      <td>€44.2M</td>\n",
       "      <td>€43.8M</td>\n",
       "      <td>€119M</td>\n",
       "      <td>€145M</td>\n",
       "      <td>€23M</td>\n",
       "      <td>€31.1M</td>\n",
       "      <td>€147.1M</td>\n",
       "      <td>€91.6M</td>\n",
       "      <td>€115M</td>\n",
       "      <td>€34.8M</td>\n",
       "      <td>€42M</td>\n",
       "    </tr>\n",
       "    <tr>\n",
       "      <th>2020</th>\n",
       "      <td>€22.3M</td>\n",
       "      <td>€22.5M</td>\n",
       "      <td>€90.5M</td>\n",
       "      <td>€135.1M</td>\n",
       "      <td>€118.9M</td>\n",
       "      <td>€17M</td>\n",
       "      <td>€28.3M</td>\n",
       "      <td>€26.3M</td>\n",
       "      <td>€45.9M</td>\n",
       "      <td>€220M</td>\n",
       "      <td>€16M</td>\n",
       "      <td>€109.4M</td>\n",
       "    </tr>\n",
       "    <tr>\n",
       "      <th>2019</th>\n",
       "      <td>€91.9M</td>\n",
       "      <td>€103.3M</td>\n",
       "      <td>€1.9M</td>\n",
       "      <td>€166.4M</td>\n",
       "      <td>€157.7M</td>\n",
       "      <td>€48.3M</td>\n",
       "      <td>€39M</td>\n",
       "      <td>€145M</td>\n",
       "      <td>€67M</td>\n",
       "      <td>€109M</td>\n",
       "      <td>€5.8M</td>\n",
       "      <td>€98M</td>\n",
       "    </tr>\n",
       "    <tr>\n",
       "      <th>2018</th>\n",
       "      <td>€21.1M</td>\n",
       "      <td>€67.5M</td>\n",
       "      <td>€271.7M</td>\n",
       "      <td>€139.8M</td>\n",
       "      <td>€59.4M</td>\n",
       "      <td>€70.4M</td>\n",
       "      <td>€22M</td>\n",
       "      <td>€104.9M</td>\n",
       "      <td>€81.8M</td>\n",
       "      <td>€117.4M</td>\n",
       "      <td>€10.5M</td>\n",
       "      <td>€28.4M</td>\n",
       "    </tr>\n",
       "    <tr>\n",
       "      <th>2017</th>\n",
       "      <td>€33.6M</td>\n",
       "      <td>€74M</td>\n",
       "      <td>€89M</td>\n",
       "      <td>€276.3M</td>\n",
       "      <td>€164.4M</td>\n",
       "      <td>€38.4M</td>\n",
       "      <td>€56.4M</td>\n",
       "      <td>€53.1M</td>\n",
       "      <td>€64.3M</td>\n",
       "      <td>€205.2M</td>\n",
       "      <td>€78.9M</td>\n",
       "      <td>€86.8M</td>\n",
       "    </tr>\n",
       "  </tbody>\n",
       "</table>\n",
       "</div>"
      ],
      "text/plain": [
       "     뉴캐슬 유나이티드 이적투자 레스터 시티 이적투자 리버풀 이적투자 맨체스터 시티 이적투자 맨체스터 유나이티드 이적투자  \\\n",
       "2021         €29.3M      €44.2M   €43.8M        €119M           €145M   \n",
       "2020         €22.3M      €22.5M   €90.5M      €135.1M         €118.9M   \n",
       "2019         €91.9M     €103.3M    €1.9M      €166.4M         €157.7M   \n",
       "2018         €21.1M      €67.5M  €271.7M      €139.8M          €59.4M   \n",
       "2017         €33.6M        €74M     €89M      €276.3M         €164.4M   \n",
       "\n",
       "     브라이튼 앤 호브 이적투자 사우샘프턴 이적투자 아스널 이적투자 웨스트햄 유나이티드 이적투자  첼시 이적투자  \\\n",
       "2021           €23M     €31.1M  €147.1M          €91.6M    €115M   \n",
       "2020           €17M     €28.3M   €26.3M          €45.9M    €220M   \n",
       "2019         €48.3M       €39M    €145M            €67M    €109M   \n",
       "2018         €70.4M       €22M  €104.9M          €81.8M  €117.4M   \n",
       "2017         €38.4M     €56.4M   €53.1M          €64.3M  €205.2M   \n",
       "\n",
       "     크리스털 팰리스 이적투자 토트넘 훗스퍼 이적투자  \n",
       "2021        €34.8M         €42M  \n",
       "2020          €16M      €109.4M  \n",
       "2019         €5.8M         €98M  \n",
       "2018        €10.5M       €28.4M  \n",
       "2017        €78.9M       €86.8M  "
      ]
     },
     "execution_count": 19,
     "metadata": {},
     "output_type": "execute_result"
    }
   ],
   "source": [
    "df1 = pd.concat([df111, df112, df113, df114, df115, df116, df117, df118, df119, df211, df212, df213], axis=1)\n",
    "df1.columns = [\"뉴캐슬 유나이티드 이적투자\", \"레스터 시티 이적투자\", \"리버풀 이적투자\", \"맨체스터 시티 이적투자\", \"맨체스터 유나이티드 이적투자\", \"브라이튼 앤 호브 이적투자\", \"사우샘프턴 이적투자\", \"아스널 이적투자\", \"웨스트햄 유나이티드 이적투자\", \"첼시 이적투자\", \"크리스털 팰리스 이적투자\", \"토트넘 훗스퍼 이적투자\"]\n",
    "df1.index = [2021,2020,2019,2018,2017]\n",
    "df1"
   ]
  },
  {
   "cell_type": "code",
   "execution_count": 20,
   "id": "fffd618f",
   "metadata": {},
   "outputs": [],
   "source": [
    "df1 = pd.concat([df111, df112, df113, df114, df115, df116, df117, df118, df119, df211, df212, df213], axis=0)"
   ]
  },
  {
   "cell_type": "code",
   "execution_count": 21,
   "id": "780c2268",
   "metadata": {},
   "outputs": [],
   "source": [
    "df1 = df1.str.replace(\"€\", \"\")\n",
    "df1 = df1.str.replace(\"M\", \"\").astype(float)"
   ]
  },
  {
   "cell_type": "code",
   "execution_count": 22,
   "id": "2ade1d8d",
   "metadata": {},
   "outputs": [],
   "source": [
    "exchange_rate=[1353.40, 1346.11, 1305.86, 1299.65, 1276.44]    # 순서대로 20\n",
    "L1_money=[]\n",
    "L2_money=[]\n",
    "L3_money=[]\n",
    "L4_money=[]\n",
    "L5_money=[]\n",
    "L_money=[L1_money,L2_money,L3_money,L4_money,L5_money]"
   ]
  },
  {
   "cell_type": "code",
   "execution_count": 23,
   "id": "cda0b9c3",
   "metadata": {},
   "outputs": [],
   "source": [
    "a=0\n",
    "for i in range(0,5):    #5년간 이적 투자 L_money 이중 리스트로 정리\n",
    "    for j in df1.iloc[i:61:5]:\n",
    "        a=j*exchange_rate[i]*1000000\n",
    "        L_money[i].append(int(a))"
   ]
  },
  {
   "cell_type": "markdown",
   "id": "4ab34c3b",
   "metadata": {},
   "source": [
    "#### 3. 승점을 확인한다."
   ]
  },
  {
   "cell_type": "code",
   "execution_count": 24,
   "id": "682c0775",
   "metadata": {},
   "outputs": [
    {
     "data": {
      "text/html": [
       "<div>\n",
       "<style scoped>\n",
       "    .dataframe tbody tr th:only-of-type {\n",
       "        vertical-align: middle;\n",
       "    }\n",
       "\n",
       "    .dataframe tbody tr th {\n",
       "        vertical-align: top;\n",
       "    }\n",
       "\n",
       "    .dataframe thead th {\n",
       "        text-align: right;\n",
       "    }\n",
       "</style>\n",
       "<table border=\"1\" class=\"dataframe\">\n",
       "  <thead>\n",
       "    <tr style=\"text-align: right;\">\n",
       "      <th></th>\n",
       "      <th>년도</th>\n",
       "      <th>뉴캐슬 유나이티드</th>\n",
       "      <th>레스터 시티</th>\n",
       "      <th>리버풀</th>\n",
       "      <th>맨체스터 시티</th>\n",
       "      <th>맨체스터 유나이티드</th>\n",
       "      <th>브라이튼 앤 호브</th>\n",
       "      <th>사우샘프턴</th>\n",
       "      <th>아스널</th>\n",
       "      <th>웨스트햄 유나이티드</th>\n",
       "      <th>첼시</th>\n",
       "      <th>크리스털 팰리스</th>\n",
       "      <th>토트넘 훗스퍼</th>\n",
       "    </tr>\n",
       "  </thead>\n",
       "  <tbody>\n",
       "    <tr>\n",
       "      <th>0</th>\n",
       "      <td>21/22</td>\n",
       "      <td>49</td>\n",
       "      <td>52</td>\n",
       "      <td>92</td>\n",
       "      <td>93</td>\n",
       "      <td>58</td>\n",
       "      <td>51</td>\n",
       "      <td>40</td>\n",
       "      <td>69</td>\n",
       "      <td>56</td>\n",
       "      <td>74</td>\n",
       "      <td>48</td>\n",
       "      <td>71</td>\n",
       "    </tr>\n",
       "    <tr>\n",
       "      <th>1</th>\n",
       "      <td>20/21</td>\n",
       "      <td>45</td>\n",
       "      <td>66</td>\n",
       "      <td>69</td>\n",
       "      <td>86</td>\n",
       "      <td>74</td>\n",
       "      <td>41</td>\n",
       "      <td>43</td>\n",
       "      <td>61</td>\n",
       "      <td>65</td>\n",
       "      <td>67</td>\n",
       "      <td>44</td>\n",
       "      <td>62</td>\n",
       "    </tr>\n",
       "    <tr>\n",
       "      <th>2</th>\n",
       "      <td>19/20</td>\n",
       "      <td>44</td>\n",
       "      <td>62</td>\n",
       "      <td>99</td>\n",
       "      <td>81</td>\n",
       "      <td>66</td>\n",
       "      <td>41</td>\n",
       "      <td>52</td>\n",
       "      <td>56</td>\n",
       "      <td>39</td>\n",
       "      <td>66</td>\n",
       "      <td>43</td>\n",
       "      <td>59</td>\n",
       "    </tr>\n",
       "    <tr>\n",
       "      <th>3</th>\n",
       "      <td>18/19</td>\n",
       "      <td>45</td>\n",
       "      <td>52</td>\n",
       "      <td>97</td>\n",
       "      <td>98</td>\n",
       "      <td>66</td>\n",
       "      <td>36</td>\n",
       "      <td>39</td>\n",
       "      <td>70</td>\n",
       "      <td>52</td>\n",
       "      <td>72</td>\n",
       "      <td>49</td>\n",
       "      <td>71</td>\n",
       "    </tr>\n",
       "    <tr>\n",
       "      <th>4</th>\n",
       "      <td>17/18</td>\n",
       "      <td>44</td>\n",
       "      <td>47</td>\n",
       "      <td>75</td>\n",
       "      <td>100</td>\n",
       "      <td>81</td>\n",
       "      <td>40</td>\n",
       "      <td>36</td>\n",
       "      <td>63</td>\n",
       "      <td>42</td>\n",
       "      <td>70</td>\n",
       "      <td>44</td>\n",
       "      <td>77</td>\n",
       "    </tr>\n",
       "  </tbody>\n",
       "</table>\n",
       "</div>"
      ],
      "text/plain": [
       "      년도  뉴캐슬 유나이티드  레스터 시티  리버풀  맨체스터 시티  맨체스터 유나이티드  브라이튼 앤 호브  사우샘프턴  아스널  \\\n",
       "0  21/22         49      52   92       93          58         51     40   69   \n",
       "1  20/21         45      66   69       86          74         41     43   61   \n",
       "2  19/20         44      62   99       81          66         41     52   56   \n",
       "3  18/19         45      52   97       98          66         36     39   70   \n",
       "4  17/18         44      47   75      100          81         40     36   63   \n",
       "\n",
       "   웨스트햄 유나이티드  첼시  크리스털 팰리스  토트넘 훗스퍼  \n",
       "0          56  74        48       71  \n",
       "1          65  67        44       62  \n",
       "2          39  66        43       59  \n",
       "3          52  72        49       71  \n",
       "4          42  70        44       77  "
      ]
     },
     "execution_count": 24,
     "metadata": {},
     "output_type": "execute_result"
    }
   ],
   "source": [
    "df2 = pd.read_excel(\"./승점.xlsx\")\n",
    "df2"
   ]
  },
  {
   "cell_type": "markdown",
   "id": "7ea68b52",
   "metadata": {},
   "source": [
    "#### 4. 이적시장 직후 시즌의 승점을 통해 가설을 확인한다.<br>"
   ]
  },
  {
   "cell_type": "code",
   "execution_count": 25,
   "id": "35ba5fe4",
   "metadata": {},
   "outputs": [],
   "source": [
    "L_point1=[]   \n",
    "L_point2=[]    \n",
    "L_point3=[]    \n",
    "L_point4=[]    \n",
    "L_point5=[]\n",
    "L_point=[L_point1,L_point2,L_point3,L_point4,L_point5]"
   ]
  },
  {
   "cell_type": "code",
   "execution_count": 26,
   "id": "4c9897b1",
   "metadata": {},
   "outputs": [],
   "source": [
    "for i in range(0,5):    \n",
    "    a=0\n",
    "    \n",
    "    for j in range(1,13):\n",
    "        a= df2.iloc[i,j]\n",
    "        L_point[i].append(int(a))"
   ]
  },
  {
   "cell_type": "code",
   "execution_count": 27,
   "id": "a26f6542",
   "metadata": {},
   "outputs": [
    {
     "data": {
      "text/plain": [
       "[<matplotlib.lines.Line2D at 0x17f29be63a0>]"
      ]
     },
     "execution_count": 27,
     "metadata": {},
     "output_type": "execute_result"
    },
    {
     "data": {
      "image/png": "[encoded data removed]",
      "text/plain": [
       "<Figure size 432x288 with 1 Axes>"
      ]
     },
     "metadata": {
      "needs_background": "light"
     },
     "output_type": "display_data"
    }
   ],
   "source": [
    "pit.plot(L_money[4],L_point[4], '.')"
   ]
  },
  {
   "cell_type": "markdown",
   "id": "df11adce",
   "metadata": {},
   "source": [
    "가로 축이 2017년 이적에 사용한 돈이고 세로 축이 17/18시즌의 승점인 그래프<br>"
   ]
  },
  {
   "cell_type": "code",
   "execution_count": 28,
   "id": "3a06ab3f",
   "metadata": {},
   "outputs": [
    {
     "data": {
      "text/plain": [
       "[<matplotlib.lines.Line2D at 0x17f29ba0670>]"
      ]
     },
     "execution_count": 28,
     "metadata": {},
     "output_type": "execute_result"
    },
    {
     "data": {
      "image/png": "[encoded data removed]",
      "text/plain": [
       "<Figure size 432x288 with 1 Axes>"
      ]
     },
     "metadata": {
      "needs_background": "light"
     },
     "output_type": "display_data"
    }
   ],
   "source": [
    "pit.plot(L_money[3],L_point[3], '.')"
   ]
  },
  {
   "cell_type": "markdown",
   "id": "640cfbc4",
   "metadata": {},
   "source": [
    "가로 축이 2018년 이적에 사용한 돈이고 세로 축이 18/19시즌의 승점인 그래프<br>"
   ]
  },
  {
   "cell_type": "code",
   "execution_count": 29,
   "id": "1e71ded6",
   "metadata": {},
   "outputs": [
    {
     "data": {
      "text/plain": [
       "[<matplotlib.lines.Line2D at 0x17f29d2a070>]"
      ]
     },
     "execution_count": 29,
     "metadata": {},
     "output_type": "execute_result"
    },
    {
     "data": {
      "image/png": "[encoded data removed]",
      "text/plain": [
       "<Figure size 432x288 with 1 Axes>"
      ]
     },
     "metadata": {
      "needs_background": "light"
     },
     "output_type": "display_data"
    }
   ],
   "source": [
    "pit.plot(L_money[2],L_point[2], '.')"
   ]
  },
  {
   "cell_type": "markdown",
   "id": "a5476971",
   "metadata": {},
   "source": [
    "가로 축이 2019년 이적에 사용한 돈이고 세로 축이 19/20시즌의 승점인 그래프<br>"
   ]
  },
  {
   "cell_type": "code",
   "execution_count": 30,
   "id": "2a5fbed4",
   "metadata": {},
   "outputs": [
    {
     "data": {
      "text/plain": [
       "[<matplotlib.lines.Line2D at 0x17f29d8b3d0>]"
      ]
     },
     "execution_count": 30,
     "metadata": {},
     "output_type": "execute_result"
    },
    {
     "data": {
      "image/png": "[encoded data removed]",
      "text/plain": [
       "<Figure size 432x288 with 1 Axes>"
      ]
     },
     "metadata": {
      "needs_background": "light"
     },
     "output_type": "display_data"
    }
   ],
   "source": [
    "pit.plot(L_money[1],L_point[1], '.')"
   ]
  },
  {
   "cell_type": "markdown",
   "id": "a3984dd9",
   "metadata": {},
   "source": [
    "가로 축이 2020년 이적에 사용한 돈이고 세로 축이 20/21시즌의 승점인 그래프<br>"
   ]
  },
  {
   "cell_type": "code",
   "execution_count": 31,
   "id": "c9dfd51e",
   "metadata": {},
   "outputs": [
    {
     "data": {
      "text/plain": [
       "[<matplotlib.lines.Line2D at 0x17f29ddef10>]"
      ]
     },
     "execution_count": 31,
     "metadata": {},
     "output_type": "execute_result"
    },
    {
     "data": {
      "image/png": "[encoded data removed]",
      "text/plain": [
       "<Figure size 432x288 with 1 Axes>"
      ]
     },
     "metadata": {
      "needs_background": "light"
     },
     "output_type": "display_data"
    }
   ],
   "source": [
    "pit.plot(L_money[0],L_point[0], '.')"
   ]
  },
  {
   "cell_type": "markdown",
   "id": "fa34e80c",
   "metadata": {},
   "source": [
    "가로 축이 2021년 이적에 사용한 돈이고 세로 축이 21/22시즌의 승점인 그래프<br>"
   ]
  },
  {
   "cell_type": "code",
   "execution_count": 32,
   "id": "85771336",
   "metadata": {},
   "outputs": [],
   "source": [
    "df2 = pd.read_excel(\"./승점.xlsx\")\n",
    "df2 = pd.concat([df2.loc[0:5,\"뉴캐슬 유나이티드\"],df2.loc[0:5,\"레스터 시티\"],df2.loc[0:5,\"리버풀\"],df2.loc[0:5,\"맨체스터 시티\"],df2.loc[0:5,\"맨체스터 유나이티드\"],df2.loc[0:5,\"브라이튼 앤 호브\"],df2.loc[0:5,\"사우샘프턴\"],df2.loc[0:5,\"아스널\"],df2.loc[0:5,\"웨스트햄 유나이티드\"],df2.loc[0:5,\"첼시\"],df2.loc[0:5,\"크리스털 팰리스\"],df2.loc[0:5,\"토트넘 훗스퍼\"]], axis=0)"
   ]
  },
  {
   "cell_type": "code",
   "execution_count": 33,
   "id": "98c88ae6",
   "metadata": {},
   "outputs": [
    {
     "data": {
      "text/plain": [
       "[<matplotlib.lines.Line2D at 0x17f29c12a60>]"
      ]
     },
     "execution_count": 33,
     "metadata": {},
     "output_type": "execute_result"
    },
    {
     "data": {
      "image/png": "[encoded data removed]",
      "text/plain": [
       "<Figure size 432x288 with 1 Axes>"
      ]
     },
     "metadata": {
      "needs_background": "light"
     },
     "output_type": "display_data"
    }
   ],
   "source": [
    "pit.plot(df1,df2, '.')"
   ]
  },
  {
   "cell_type": "markdown",
   "id": "d245e773",
   "metadata": {},
   "source": [
    "가로 축이 5년동안 이적에 사용한 돈이고 세로 축이 이적 이후 시즌의 승점인 그래프<br>"
   ]
  },
  {
   "cell_type": "markdown",
   "id": "15ae5208",
   "metadata": {},
   "source": [
    "#### 4. 결론<br>"
   ]
  },
  {
   "cell_type": "markdown",
   "id": "a8638c0f",
   "metadata": {},
   "source": [
    "몇번의 예외를 제외하고 <br>\n",
    "이적에 사용한 돈이 적은 팀의 승점은 낮았고 <br>\n",
    "이적에 사용한 돈이 많은 팀의 승점은 높았다."
   ]
  },
  {
   "cell_type": "markdown",
   "id": "0f06d2e0",
   "metadata": {},
   "source": [
    "#### 따라서, 가설 B가 유효하다고 할 수 있다."
   ]
  },
  {
   "cell_type": "markdown",
   "id": "b3b440f8",
   "metadata": {},
   "source": [
    "            "
   ]
  },
  {
   "cell_type": "markdown",
   "id": "12a43b89",
   "metadata": {},
   "source": [
    "### C. 이적으로 돈을 많이 번 팀일수록 다다음 시즌에 강해진다.<br>"
   ]
  },
  {
   "cell_type": "markdown",
   "id": "a529bf2b",
   "metadata": {},
   "source": [
    "2017년 유로 환율 = 1,276.44<br>\n",
    "2018년 유로 환율 = 1,299.65<br>\n",
    "2019년 유로 환율 = 1,305.86<br>\n",
    "2020년 유로 환율 = 1,346.11<br>\n",
    "2021년 유로 환율 = 1,353.40<br>\n",
    "\n",
    "€1M = €1,000,000"
   ]
  },
  {
   "cell_type": "markdown",
   "id": "c076ff89",
   "metadata": {},
   "source": [
    "#### 1. 강해지는 기준을 승점으로 둔다.<br>"
   ]
  },
  {
   "cell_type": "markdown",
   "id": "2c09a59e",
   "metadata": {},
   "source": [
    "2017년도 수입으로 2018/2019 시즌의 승점을 확인한다.<br>\n",
    "2018년도 수입으로 2019/2020 시즌의 승점을 확인한다.<br>\n",
    "2019년도 수입으로 2020/2021 시즌의 승점을 확인한다.<br>\n",
    "2020년도 수입으로 2021/2022 시즌의 승점을 확인한다.<br>"
   ]
  },
  {
   "cell_type": "code",
   "execution_count": 34,
   "id": "9dba36a2",
   "metadata": {},
   "outputs": [],
   "source": [
    "df111 = df11[[ \"이적 수입\"]].loc[1:4]\n",
    "df112 = df12[[ \"이적 수입\"]].loc[1:4]\n",
    "df113 = df13[[ \"이적 수입\"]].loc[1:4]\n",
    "df114 = df14[[ \"이적 수입\"]].loc[1:4]\n",
    "df115 = df15[[ \"이적 수입\"]].loc[1:4]\n",
    "df116 = df16[[ \"이적 수입\"]].loc[1:4]\n",
    "df117 = df17[[ \"이적 수입\"]].loc[1:4]\n",
    "df118 = df18[[ \"이적 수입\"]].loc[1:4]\n",
    "df119 = df19[[ \"이적 수입\"]].loc[1:4]\n",
    "df211 = df21[[ \"이적 수입\"]].loc[1:4]\n",
    "df212 = df22[[ \"이적 수입\"]].loc[1:4]\n",
    "df213 = df23[[ \"이적 수입\"]].loc[1:4]"
   ]
  },
  {
   "cell_type": "markdown",
   "id": "276ced5d",
   "metadata": {},
   "source": [
    "#### 2. 이적으로 벌어들인 돈을 확인한다.<br>"
   ]
  },
  {
   "cell_type": "code",
   "execution_count": 35,
   "id": "e334d5b1",
   "metadata": {},
   "outputs": [
    {
     "data": {
      "text/html": [
       "<div>\n",
       "<style scoped>\n",
       "    .dataframe tbody tr th:only-of-type {\n",
       "        vertical-align: middle;\n",
       "    }\n",
       "\n",
       "    .dataframe tbody tr th {\n",
       "        vertical-align: top;\n",
       "    }\n",
       "\n",
       "    .dataframe thead th {\n",
       "        text-align: right;\n",
       "    }\n",
       "</style>\n",
       "<table border=\"1\" class=\"dataframe\">\n",
       "  <thead>\n",
       "    <tr style=\"text-align: right;\">\n",
       "      <th></th>\n",
       "      <th>뉴캐슬 유나이티드 이적수입</th>\n",
       "      <th>레스터 시티 이적수입</th>\n",
       "      <th>리버풀 이적수입</th>\n",
       "      <th>맨체스터 시티 이적수입</th>\n",
       "      <th>맨체스터 유나이티드 이적수입</th>\n",
       "      <th>브라이튼 앤 호브 이적수입</th>\n",
       "      <th>사우샘프턴 이적수입</th>\n",
       "      <th>아스널 이적수입</th>\n",
       "      <th>웨스트햄 유나이티드 이적수입</th>\n",
       "      <th>첼시 이적수입</th>\n",
       "      <th>크리스털 팰리스 이적수입</th>\n",
       "      <th>토트넘 훗스퍼 이적수입</th>\n",
       "    </tr>\n",
       "  </thead>\n",
       "  <tbody>\n",
       "    <tr>\n",
       "      <th>2020</th>\n",
       "      <td>€0M</td>\n",
       "      <td>€57.5M</td>\n",
       "      <td>€41.5M</td>\n",
       "      <td>€67.5M</td>\n",
       "      <td>€15M</td>\n",
       "      <td>€18M</td>\n",
       "      <td>€25.6M</td>\n",
       "      <td>€18.5M</td>\n",
       "      <td>€0.5M</td>\n",
       "      <td>€71.5M</td>\n",
       "      <td>€0M</td>\n",
       "      <td>€33.3M</td>\n",
       "    </tr>\n",
       "    <tr>\n",
       "      <th>2019</th>\n",
       "      <td>€37.3M</td>\n",
       "      <td>€96.3M</td>\n",
       "      <td>€58.3M</td>\n",
       "      <td>€61.5M</td>\n",
       "      <td>€78.5M</td>\n",
       "      <td>€2.4M</td>\n",
       "      <td>€28.6M</td>\n",
       "      <td>€38.9M</td>\n",
       "      <td>€46M</td>\n",
       "      <td>€119M</td>\n",
       "      <td>€55.7M</td>\n",
       "      <td>€37.5M</td>\n",
       "    </tr>\n",
       "    <tr>\n",
       "      <th>2018</th>\n",
       "      <td>€19.8M</td>\n",
       "      <td>€67.8M</td>\n",
       "      <td>€135.3M</td>\n",
       "      <td>€27.5M</td>\n",
       "      <td>€23.1M</td>\n",
       "      <td>€5.6M</td>\n",
       "      <td>€95.9M</td>\n",
       "      <td>€49.5M</td>\n",
       "      <td>€30.4M</td>\n",
       "      <td>€104.9M</td>\n",
       "      <td>€0M</td>\n",
       "      <td>€0M</td>\n",
       "    </tr>\n",
       "    <tr>\n",
       "      <th>2017</th>\n",
       "      <td>€13.3M</td>\n",
       "      <td>€63.4M</td>\n",
       "      <td>€38.3M</td>\n",
       "      <td>€101M</td>\n",
       "      <td>€49.1M</td>\n",
       "      <td>€0M</td>\n",
       "      <td>€22.9M</td>\n",
       "      <td>€56.5M</td>\n",
       "      <td>€53.1M</td>\n",
       "      <td>€195.2M</td>\n",
       "      <td>€0M</td>\n",
       "      <td>€104.9M</td>\n",
       "    </tr>\n",
       "  </tbody>\n",
       "</table>\n",
       "</div>"
      ],
      "text/plain": [
       "     뉴캐슬 유나이티드 이적수입 레스터 시티 이적수입 리버풀 이적수입 맨체스터 시티 이적수입 맨체스터 유나이티드 이적수입  \\\n",
       "2020            €0M      €57.5M   €41.5M       €67.5M            €15M   \n",
       "2019         €37.3M      €96.3M   €58.3M       €61.5M          €78.5M   \n",
       "2018         €19.8M      €67.8M  €135.3M       €27.5M          €23.1M   \n",
       "2017         €13.3M      €63.4M   €38.3M        €101M          €49.1M   \n",
       "\n",
       "     브라이튼 앤 호브 이적수입 사우샘프턴 이적수입 아스널 이적수입 웨스트햄 유나이티드 이적수입  첼시 이적수입  \\\n",
       "2020           €18M     €25.6M   €18.5M           €0.5M   €71.5M   \n",
       "2019          €2.4M     €28.6M   €38.9M            €46M    €119M   \n",
       "2018          €5.6M     €95.9M   €49.5M          €30.4M  €104.9M   \n",
       "2017            €0M     €22.9M   €56.5M          €53.1M  €195.2M   \n",
       "\n",
       "     크리스털 팰리스 이적수입 토트넘 훗스퍼 이적수입  \n",
       "2020           €0M       €33.3M  \n",
       "2019        €55.7M       €37.5M  \n",
       "2018           €0M          €0M  \n",
       "2017           €0M      €104.9M  "
      ]
     },
     "execution_count": 35,
     "metadata": {},
     "output_type": "execute_result"
    }
   ],
   "source": [
    "df1 = pd.concat([df111, df112, df113, df114, df115, df116, df117, df118, df119, df211, df212, df213], axis=1)\n",
    "df1.columns = [\"뉴캐슬 유나이티드 이적수입\", \"레스터 시티 이적수입\", \"리버풀 이적수입\", \"맨체스터 시티 이적수입\", \"맨체스터 유나이티드 이적수입\", \"브라이튼 앤 호브 이적수입\", \"사우샘프턴 이적수입\", \"아스널 이적수입\", \"웨스트햄 유나이티드 이적수입\", \"첼시 이적수입\", \"크리스털 팰리스 이적수입\", \"토트넘 훗스퍼 이적수입\"]\n",
    "df1.index = [2020,2019,2018,2017]\n",
    "df1"
   ]
  },
  {
   "cell_type": "code",
   "execution_count": 36,
   "id": "25eb8632",
   "metadata": {},
   "outputs": [],
   "source": [
    "df1 = pd.concat([df111, df112, df113, df114, df115, df116, df117, df118, df119, df211, df212, df213], axis=0)"
   ]
  },
  {
   "cell_type": "code",
   "execution_count": 37,
   "id": "52394ab6",
   "metadata": {},
   "outputs": [],
   "source": [
    "df1['이적 수입'] = df1['이적 수입'].str.replace(\"€\", \"\")\n",
    "df1['이적 수입'] = df1['이적 수입'].str.replace(\"M\", \"\")\n",
    "df1['이적 수입'].iloc[0:61]  = df1['이적 수입'].iloc[0:61].astype(float)"
   ]
  },
  {
   "cell_type": "code",
   "execution_count": 38,
   "id": "4491137c",
   "metadata": {},
   "outputs": [],
   "source": [
    "exchange_rate=[1346.11, 1305.86, 1299.65, 1276.44]\n",
    "L1_money=[]\n",
    "L2_money=[]\n",
    "L3_money=[]\n",
    "L4_money=[]\n",
    "L_money=[L1_money,L2_money,L3_money,L4_money]"
   ]
  },
  {
   "cell_type": "code",
   "execution_count": 39,
   "id": "4154f65c",
   "metadata": {},
   "outputs": [],
   "source": [
    "a=0\n",
    "for i in range(0,4):    #4년간 이적 수입 L_money 이중 리스트로 정리\n",
    "    for j in df1['이적 수입'].iloc[i:61:4]:\n",
    "        a=(j+0)*exchange_rate[i]*1000000\n",
    "        L_money[i].append(int(a))"
   ]
  },
  {
   "cell_type": "markdown",
   "id": "48bae0ae",
   "metadata": {},
   "source": [
    "#### 3. 승점을 확인한다.<br>"
   ]
  },
  {
   "cell_type": "code",
   "execution_count": 40,
   "id": "f01e5e0d",
   "metadata": {},
   "outputs": [
    {
     "data": {
      "text/html": [
       "<div>\n",
       "<style scoped>\n",
       "    .dataframe tbody tr th:only-of-type {\n",
       "        vertical-align: middle;\n",
       "    }\n",
       "\n",
       "    .dataframe tbody tr th {\n",
       "        vertical-align: top;\n",
       "    }\n",
       "\n",
       "    .dataframe thead th {\n",
       "        text-align: right;\n",
       "    }\n",
       "</style>\n",
       "<table border=\"1\" class=\"dataframe\">\n",
       "  <thead>\n",
       "    <tr style=\"text-align: right;\">\n",
       "      <th></th>\n",
       "      <th>년도</th>\n",
       "      <th>뉴캐슬 유나이티드</th>\n",
       "      <th>레스터 시티</th>\n",
       "      <th>리버풀</th>\n",
       "      <th>맨체스터 시티</th>\n",
       "      <th>맨체스터 유나이티드</th>\n",
       "      <th>브라이튼 앤 호브</th>\n",
       "      <th>사우샘프턴</th>\n",
       "      <th>아스널</th>\n",
       "      <th>웨스트햄 유나이티드</th>\n",
       "      <th>첼시</th>\n",
       "      <th>크리스털 팰리스</th>\n",
       "      <th>토트넘 훗스퍼</th>\n",
       "    </tr>\n",
       "  </thead>\n",
       "  <tbody>\n",
       "    <tr>\n",
       "      <th>0</th>\n",
       "      <td>21/22</td>\n",
       "      <td>49</td>\n",
       "      <td>52</td>\n",
       "      <td>92</td>\n",
       "      <td>93</td>\n",
       "      <td>58</td>\n",
       "      <td>51</td>\n",
       "      <td>40</td>\n",
       "      <td>69</td>\n",
       "      <td>56</td>\n",
       "      <td>74</td>\n",
       "      <td>48</td>\n",
       "      <td>71</td>\n",
       "    </tr>\n",
       "    <tr>\n",
       "      <th>1</th>\n",
       "      <td>20/21</td>\n",
       "      <td>45</td>\n",
       "      <td>66</td>\n",
       "      <td>69</td>\n",
       "      <td>86</td>\n",
       "      <td>74</td>\n",
       "      <td>41</td>\n",
       "      <td>43</td>\n",
       "      <td>61</td>\n",
       "      <td>65</td>\n",
       "      <td>67</td>\n",
       "      <td>44</td>\n",
       "      <td>62</td>\n",
       "    </tr>\n",
       "    <tr>\n",
       "      <th>2</th>\n",
       "      <td>19/20</td>\n",
       "      <td>44</td>\n",
       "      <td>62</td>\n",
       "      <td>99</td>\n",
       "      <td>81</td>\n",
       "      <td>66</td>\n",
       "      <td>41</td>\n",
       "      <td>52</td>\n",
       "      <td>56</td>\n",
       "      <td>39</td>\n",
       "      <td>66</td>\n",
       "      <td>43</td>\n",
       "      <td>59</td>\n",
       "    </tr>\n",
       "    <tr>\n",
       "      <th>3</th>\n",
       "      <td>18/19</td>\n",
       "      <td>45</td>\n",
       "      <td>52</td>\n",
       "      <td>97</td>\n",
       "      <td>98</td>\n",
       "      <td>66</td>\n",
       "      <td>36</td>\n",
       "      <td>39</td>\n",
       "      <td>70</td>\n",
       "      <td>52</td>\n",
       "      <td>72</td>\n",
       "      <td>49</td>\n",
       "      <td>71</td>\n",
       "    </tr>\n",
       "  </tbody>\n",
       "</table>\n",
       "</div>"
      ],
      "text/plain": [
       "      년도  뉴캐슬 유나이티드  레스터 시티  리버풀  맨체스터 시티  맨체스터 유나이티드  브라이튼 앤 호브  사우샘프턴  아스널  \\\n",
       "0  21/22         49      52   92       93          58         51     40   69   \n",
       "1  20/21         45      66   69       86          74         41     43   61   \n",
       "2  19/20         44      62   99       81          66         41     52   56   \n",
       "3  18/19         45      52   97       98          66         36     39   70   \n",
       "\n",
       "   웨스트햄 유나이티드  첼시  크리스털 팰리스  토트넘 훗스퍼  \n",
       "0          56  74        48       71  \n",
       "1          65  67        44       62  \n",
       "2          39  66        43       59  \n",
       "3          52  72        49       71  "
      ]
     },
     "execution_count": 40,
     "metadata": {},
     "output_type": "execute_result"
    }
   ],
   "source": [
    "df2 = pd.read_excel(\"./승점.xlsx\")\n",
    "df2.iloc[0:4]"
   ]
  },
  {
   "cell_type": "code",
   "execution_count": 41,
   "id": "76a7df0e",
   "metadata": {},
   "outputs": [],
   "source": [
    "L_point1=[]   \n",
    "L_point2=[]    \n",
    "L_point3=[]    \n",
    "L_point4=[]    \n",
    "L_point=[L_point1,L_point2,L_point3,L_point4]"
   ]
  },
  {
   "cell_type": "code",
   "execution_count": 42,
   "id": "6d41ed5a",
   "metadata": {},
   "outputs": [],
   "source": [
    "for i in range(0,4):    \n",
    "    a=0\n",
    "    \n",
    "    for j in range(1,13):\n",
    "        a= df2.iloc[i,j]\n",
    "        L_point[i].append(int(a))"
   ]
  },
  {
   "cell_type": "markdown",
   "id": "7aa1ab75",
   "metadata": {},
   "source": [
    "#### 4. 이적 다음 해의 시즌 승점을 통해 가설을 확인한다.<br>"
   ]
  },
  {
   "cell_type": "code",
   "execution_count": 43,
   "id": "1faa8a74",
   "metadata": {},
   "outputs": [
    {
     "data": {
      "text/plain": [
       "[<matplotlib.lines.Line2D at 0x17f29cae760>]"
      ]
     },
     "execution_count": 43,
     "metadata": {},
     "output_type": "execute_result"
    },
    {
     "data": {
      "image/png": "[encoded data removed]",
      "text/plain": [
       "<Figure size 432x288 with 1 Axes>"
      ]
     },
     "metadata": {
      "needs_background": "light"
     },
     "output_type": "display_data"
    }
   ],
   "source": [
    "pit.plot(L_money[3],L_point[3], '.')"
   ]
  },
  {
   "cell_type": "markdown",
   "id": "c62b536a",
   "metadata": {},
   "source": [
    "가로 축은 2017년 이적 수입이고 세로 축은 18/19시즌의 승점인 그래프"
   ]
  },
  {
   "cell_type": "code",
   "execution_count": 44,
   "id": "1acd7f14",
   "metadata": {},
   "outputs": [
    {
     "data": {
      "text/plain": [
       "[<matplotlib.lines.Line2D at 0x17f2a184c10>]"
      ]
     },
     "execution_count": 44,
     "metadata": {},
     "output_type": "execute_result"
    },
    {
     "data": {
      "image/png": "[encoded data removed]",
      "text/plain": [
       "<Figure size 432x288 with 1 Axes>"
      ]
     },
     "metadata": {
      "needs_background": "light"
     },
     "output_type": "display_data"
    }
   ],
   "source": [
    "pit.plot(L_money[2],L_point[2], '.')"
   ]
  },
  {
   "cell_type": "markdown",
   "id": "290ddb19",
   "metadata": {},
   "source": [
    "가로 축은 2018년 이적 수입이고 세로 축은 19/20시즌의 승점인 그래프"
   ]
  },
  {
   "cell_type": "code",
   "execution_count": 45,
   "id": "64031cee",
   "metadata": {},
   "outputs": [
    {
     "data": {
      "text/plain": [
       "[<matplotlib.lines.Line2D at 0x17f2a1e9fa0>]"
      ]
     },
     "execution_count": 45,
     "metadata": {},
     "output_type": "execute_result"
    },
    {
     "data": {
      "image/png": "[encoded data removed]",
      "text/plain": [
       "<Figure size 432x288 with 1 Axes>"
      ]
     },
     "metadata": {
      "needs_background": "light"
     },
     "output_type": "display_data"
    }
   ],
   "source": [
    "pit.plot(L_money[1],L_point[1], '.')"
   ]
  },
  {
   "cell_type": "markdown",
   "id": "c15a4722",
   "metadata": {},
   "source": [
    "가로 축은 2019년 이적 수입이고 세로 축은 20/21시즌의 승점인 그래프"
   ]
  },
  {
   "cell_type": "code",
   "execution_count": 46,
   "id": "3f035f41",
   "metadata": {},
   "outputs": [
    {
     "data": {
      "text/plain": [
       "[<matplotlib.lines.Line2D at 0x17f2a24fbb0>]"
      ]
     },
     "execution_count": 46,
     "metadata": {},
     "output_type": "execute_result"
    },
    {
     "data": {
      "image/png": "[encoded data removed]",
      "text/plain": [
       "<Figure size 432x288 with 1 Axes>"
      ]
     },
     "metadata": {
      "needs_background": "light"
     },
     "output_type": "display_data"
    }
   ],
   "source": [
    "pit.plot(L_money[0],L_point[0], '.')"
   ]
  },
  {
   "cell_type": "markdown",
   "id": "5bc255a3",
   "metadata": {},
   "source": [
    "가로 축은 2020년 이적 수입이고 세로 축은 21/22시즌의 승점인 그래프"
   ]
  },
  {
   "cell_type": "code",
   "execution_count": 47,
   "id": "0e7dd00e",
   "metadata": {},
   "outputs": [],
   "source": [
    "df2 = pd.concat([df2.loc[0:3,\"뉴캐슬 유나이티드\"],df2.loc[0:3,\"레스터 시티\"],df2.loc[0:3,\"리버풀\"],df2.loc[0:3,\"맨체스터 시티\"],df2.loc[0:3,\"맨체스터 유나이티드\"],df2.loc[0:3,\"브라이튼 앤 호브\"],df2.loc[0:3,\"사우샘프턴\"],df2.loc[0:3,\"아스널\"],df2.loc[0:3,\"웨스트햄 유나이티드\"],df2.loc[0:3,\"첼시\"],df2.loc[0:3,\"크리스털 팰리스\"],df2.loc[0:3,\"토트넘 훗스퍼\"]], axis=0)"
   ]
  },
  {
   "cell_type": "code",
   "execution_count": 48,
   "id": "dc178910",
   "metadata": {},
   "outputs": [
    {
     "data": {
      "text/plain": [
       "[<matplotlib.lines.Line2D at 0x17f2a2b3280>]"
      ]
     },
     "execution_count": 48,
     "metadata": {},
     "output_type": "execute_result"
    },
    {
     "data": {
      "image/png": "[encoded data removed]",
      "text/plain": [
       "<Figure size 432x288 with 1 Axes>"
      ]
     },
     "metadata": {
      "needs_background": "light"
     },
     "output_type": "display_data"
    }
   ],
   "source": [
    "pit.plot(df1['이적 수입'],df2, '.')"
   ]
  },
  {
   "cell_type": "markdown",
   "id": "4d0e5fd9",
   "metadata": {},
   "source": [
    "가로 축은 이적 수입이고 세로 축은 승점인 그래프"
   ]
  },
  {
   "cell_type": "markdown",
   "id": "307b26a9",
   "metadata": {},
   "source": [
    "#### 5. 결론.<br>"
   ]
  },
  {
   "cell_type": "markdown",
   "id": "20809b38",
   "metadata": {},
   "source": [
    "대부분 이적으로 번돈이 많을수록 그 돈을 쓸 수 있는 <br>\n",
    "다음해의 시즌에서 승점이 높은것으로 확인 된다.<br>\n",
    "### 따라서, 가설 C는 유효하다. <br>"
   ]
  },
  {
   "cell_type": "markdown",
   "id": "f655c587",
   "metadata": {},
   "source": [
    "   "
   ]
  }
 ],
 "metadata": {
  "kernelspec": {
   "display_name": "Python 3 (ipykernel)",
   "language": "python",
   "name": "python3"
  },
  "language_info": {
   "codemirror_mode": {
    "name": "ipython",
    "version": 3
   },
   "file_extension": ".py",
   "mimetype": "text/x-python",
   "name": "python",
   "nbconvert_exporter": "python",
   "pygments_lexer": "ipython3",
   "version": "3.9.12"
  },
  "vscode": {
   "interpreter": {
    "hash": "26de051ba29f2982a8de78e945f0abaf191376122a1563185a90213a26c5da77"
   }
  }
 },
 "nbformat": 4,
 "nbformat_minor": 5
}
